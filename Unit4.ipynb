{
  "nbformat": 4,
  "nbformat_minor": 0,
  "metadata": {
    "colab": {
      "name": "Unit4.ipynb",
      "provenance": [],
      "authorship_tag": "ABX9TyNpVWj/FQoHxKxoCxPhzJDo",
      "include_colab_link": true
    },
    "kernelspec": {
      "name": "python3",
      "display_name": "Python 3"
    },
    "language_info": {
      "name": "python"
    }
  },
  "cells": [
    {
      "cell_type": "markdown",
      "metadata": {
        "id": "view-in-github",
        "colab_type": "text"
      },
      "source": [
        "<a href=\"https://colab.research.google.com/github/veenavahini06/datatype/blob/main/Unit4.ipynb\" target=\"_parent\"><img src=\"https://colab.research.google.com/assets/colab-badge.svg\" alt=\"Open In Colab\"/></a>"
      ]
    },
    {
      "cell_type": "markdown",
      "source": [
        "init method:"
      ],
      "metadata": {
        "id": "aFCLJZDgl5QA"
      }
    },
    {
      "cell_type": "code",
      "source": [
        "class Dog:\n",
        "  altr1=\"mammal\"\n",
        "  def __init__(self,name):\n",
        "    self.name=name\n",
        "  def speak(self):\n",
        "    print(\"name is\",self.name)\n",
        "d1= Dog(\"Rodger\")\n",
        "d2= Dog(\"Tommy\")\n",
        "d1.speak()\n",
        "d2.speak()"
      ],
      "metadata": {
        "colab": {
          "base_uri": "https://localhost:8080/"
        },
        "id": "OVjoqDaFl8yH",
        "outputId": "d5c49113-4fa2-4525-dffa-8f7df7a6f4cf"
      },
      "execution_count": 10,
      "outputs": [
        {
          "output_type": "stream",
          "name": "stdout",
          "text": [
            "name is Rodger\n",
            "name is Tommy\n"
          ]
        }
      ]
    },
    {
      "cell_type": "code",
      "source": [
        "class Car:\n",
        "  def __init__(self,modelname,year):\n",
        "    self.modelname=modelname\n",
        "    self.year=year\n",
        "  def display(self):\n",
        "    print(self.modelname)\n",
        "    print(self.year)\n",
        "c=Car(\"BMW\",2021)\n",
        "c.display()\n"
      ],
      "metadata": {
        "colab": {
          "base_uri": "https://localhost:8080/"
        },
        "id": "_u46Z--yoc9o",
        "outputId": "a70a7366-58c7-4f14-cdb0-52639aa0b57b"
      },
      "execution_count": 9,
      "outputs": [
        {
          "output_type": "stream",
          "name": "stdout",
          "text": [
            "BMW\n",
            "2021\n"
          ]
        }
      ]
    },
    {
      "cell_type": "code",
      "source": [
        "class Person:\n",
        "  def __init__(self,name,idnumber):\n",
        "    self.name=name\n",
        "    self.idnumber=idnumber\n",
        "  def display(self):\n",
        "    print(self.name)\n",
        "    print(self.idnumber)\n",
        "  def details(self):\n",
        "    print(\"my name is\",self.name)\n",
        "    print(\"my idnumber is\",self.idnumber)\n",
        "class Employee(Person):\n",
        "  def __init__(self,name,idnumber,salary,post):\n",
        "    self.salary=salary\n",
        "    self.post=post\n",
        "    Person.__init__(self,name,idnumber)\n",
        "  def details(self):\n",
        "    print(\"my name is\",self.name)\n",
        "    print(\"my idnumber is\",self.idnumber)\n",
        "    print(\"my salary is \",self.salary)\n",
        "    print(\"my post is\",self.post)\n",
        "a=Employee(\"xyz\",101,100000,\"SoftwareEngineer\")\n",
        "a.display()\n",
        "a.details()"
      ],
      "metadata": {
        "colab": {
          "base_uri": "https://localhost:8080/"
        },
        "id": "7hWBlqb8qsW3",
        "outputId": "5b9c2eec-e995-4953-abea-0579bd3fd64c"
      },
      "execution_count": 13,
      "outputs": [
        {
          "output_type": "stream",
          "name": "stdout",
          "text": [
            "xyz\n",
            "101\n",
            "my name is xyz\n",
            "my idnumber is 101\n",
            "my salary is  100000\n",
            "my post is SoftwareEngineer\n"
          ]
        }
      ]
    },
    {
      "cell_type": "code",
      "source": [
        "num1=10\n",
        "num2=20\n",
        "print(num1+num2)"
      ],
      "metadata": {
        "colab": {
          "base_uri": "https://localhost:8080/"
        },
        "id": "ZThuFMN0s49w",
        "outputId": "9db89f19-7831-4d7f-fbbd-b99bb3199358"
      },
      "execution_count": 14,
      "outputs": [
        {
          "output_type": "stream",
          "name": "stdout",
          "text": [
            "30\n"
          ]
        }
      ]
    },
    {
      "cell_type": "code",
      "source": [
        "str1=\"python\"\n",
        "str2=\"program\"\n",
        "print(str1+str2)"
      ],
      "metadata": {
        "colab": {
          "base_uri": "https://localhost:8080/"
        },
        "id": "nnv3wo4As_V3",
        "outputId": "dd895433-599d-4e1f-80cf-fa9734a22125"
      },
      "execution_count": 15,
      "outputs": [
        {
          "output_type": "stream",
          "name": "stdout",
          "text": [
            "pythonprogram\n"
          ]
        }
      ]
    }
  ]
}